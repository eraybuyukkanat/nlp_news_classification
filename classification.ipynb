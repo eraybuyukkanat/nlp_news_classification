{
 "cells": [
  {
   "cell_type": "code",
   "execution_count": 1,
   "id": "c65a99b7-765f-4319-9be3-4685dc11ee05",
   "metadata": {},
   "outputs": [
    {
     "name": "stdout",
     "output_type": "stream",
     "text": [
      "Requirement already satisfied: anyio==4.0.0 in c:\\users\\eray\\appdata\\roaming\\python\\python311\\site-packages (from -r requirements.txt (line 1)) (4.0.0)\n",
      "Requirement already satisfied: appnope==0.1.3 in c:\\users\\eray\\appdata\\local\\programs\\python\\python311\\lib\\site-packages (from -r requirements.txt (line 2)) (0.1.3)\n",
      "Requirement already satisfied: argon2-cffi==23.1.0 in c:\\users\\eray\\appdata\\roaming\\python\\python311\\site-packages (from -r requirements.txt (line 3)) (23.1.0)\n",
      "Requirement already satisfied: argon2-cffi-bindings==21.2.0 in c:\\users\\eray\\appdata\\local\\programs\\python\\python311\\lib\\site-packages (from -r requirements.txt (line 4)) (21.2.0)\n",
      "Requirement already satisfied: arrow==1.3.0 in c:\\users\\eray\\appdata\\roaming\\python\\python311\\site-packages (from -r requirements.txt (line 5)) (1.3.0)\n",
      "Requirement already satisfied: asttokens==2.4.0 in c:\\users\\eray\\appdata\\roaming\\python\\python311\\site-packages (from -r requirements.txt (line 6)) (2.4.0)\n",
      "Requirement already satisfied: async-lru==2.0.4 in c:\\users\\eray\\appdata\\roaming\\python\\python311\\site-packages (from -r requirements.txt (line 7)) (2.0.4)\n",
      "Requirement already satisfied: attrs==23.1.0 in c:\\users\\eray\\appdata\\roaming\\python\\python311\\site-packages (from -r requirements.txt (line 8)) (23.1.0)\n",
      "Requirement already satisfied: Babel==2.13.0 in c:\\users\\eray\\appdata\\roaming\\python\\python311\\site-packages (from -r requirements.txt (line 9)) (2.13.0)\n",
      "Requirement already satisfied: backcall==0.2.0 in c:\\users\\eray\\appdata\\local\\programs\\python\\python311\\lib\\site-packages (from -r requirements.txt (line 10)) (0.2.0)\n",
      "Requirement already satisfied: beautifulsoup4==4.12.2 in c:\\users\\eray\\appdata\\local\\programs\\python\\python311\\lib\\site-packages (from -r requirements.txt (line 11)) (4.12.2)\n",
      "Requirement already satisfied: bleach==6.0.0 in c:\\users\\eray\\appdata\\roaming\\python\\python311\\site-packages (from -r requirements.txt (line 12)) (6.0.0)\n",
      "Requirement already satisfied: certifi==2023.7.22 in c:\\users\\eray\\appdata\\local\\programs\\python\\python311\\lib\\site-packages (from -r requirements.txt (line 13)) (2023.7.22)\n",
      "Requirement already satisfied: cffi==1.16.0 in c:\\users\\eray\\appdata\\roaming\\python\\python311\\site-packages (from -r requirements.txt (line 14)) (1.16.0)\n",
      "Requirement already satisfied: charset-normalizer==3.3.0 in c:\\users\\eray\\appdata\\roaming\\python\\python311\\site-packages (from -r requirements.txt (line 15)) (3.3.0)\n",
      "Requirement already satisfied: click==8.1.7 in c:\\users\\eray\\appdata\\roaming\\python\\python311\\site-packages (from -r requirements.txt (line 16)) (8.1.7)\n",
      "Requirement already satisfied: comm==0.1.4 in c:\\users\\eray\\appdata\\roaming\\python\\python311\\site-packages (from -r requirements.txt (line 17)) (0.1.4)\n",
      "Requirement already satisfied: contourpy==1.1.1 in c:\\users\\eray\\appdata\\roaming\\python\\python311\\site-packages (from -r requirements.txt (line 18)) (1.1.1)\n",
      "Requirement already satisfied: cycler==0.12.0 in c:\\users\\eray\\appdata\\roaming\\python\\python311\\site-packages (from -r requirements.txt (line 19)) (0.12.0)\n",
      "Requirement already satisfied: debugpy==1.8.0 in c:\\users\\eray\\appdata\\roaming\\python\\python311\\site-packages (from -r requirements.txt (line 20)) (1.8.0)\n",
      "Requirement already satisfied: decorator==5.1.1 in c:\\users\\eray\\appdata\\local\\programs\\python\\python311\\lib\\site-packages (from -r requirements.txt (line 21)) (5.1.1)\n",
      "Requirement already satisfied: defusedxml==0.7.1 in c:\\users\\eray\\appdata\\local\\programs\\python\\python311\\lib\\site-packages (from -r requirements.txt (line 22)) (0.7.1)\n",
      "Requirement already satisfied: emoji==2.8.0 in c:\\users\\eray\\appdata\\roaming\\python\\python311\\site-packages (from -r requirements.txt (line 23)) (2.8.0)\n",
      "Requirement already satisfied: et-xmlfile==1.1.0 in c:\\users\\eray\\appdata\\local\\programs\\python\\python311\\lib\\site-packages (from -r requirements.txt (line 24)) (1.1.0)\n",
      "Requirement already satisfied: executing==2.0.0 in c:\\users\\eray\\appdata\\local\\programs\\python\\python311\\lib\\site-packages (from -r requirements.txt (line 25)) (2.0.0)\n",
      "Requirement already satisfied: fastjsonschema==2.18.1 in c:\\users\\eray\\appdata\\local\\programs\\python\\python311\\lib\\site-packages (from -r requirements.txt (line 26)) (2.18.1)\n",
      "Requirement already satisfied: fonttools==4.43.1 in c:\\users\\eray\\appdata\\roaming\\python\\python311\\site-packages (from -r requirements.txt (line 27)) (4.43.1)\n",
      "Requirement already satisfied: fqdn==1.5.1 in c:\\users\\eray\\appdata\\roaming\\python\\python311\\site-packages (from -r requirements.txt (line 28)) (1.5.1)\n",
      "Requirement already satisfied: idna==3.4 in c:\\users\\eray\\appdata\\local\\programs\\python\\python311\\lib\\site-packages (from -r requirements.txt (line 29)) (3.4)\n",
      "Requirement already satisfied: ipykernel==6.25.2 in c:\\users\\eray\\appdata\\roaming\\python\\python311\\site-packages (from -r requirements.txt (line 30)) (6.25.2)\n",
      "Requirement already satisfied: ipython==8.16.1 in c:\\users\\eray\\appdata\\roaming\\python\\python311\\site-packages (from -r requirements.txt (line 31)) (8.16.1)\n",
      "Requirement already satisfied: ipython-genutils==0.2.0 in c:\\users\\eray\\appdata\\local\\programs\\python\\python311\\lib\\site-packages (from -r requirements.txt (line 32)) (0.2.0)\n",
      "Requirement already satisfied: ipywidgets==8.1.1 in c:\\users\\eray\\appdata\\roaming\\python\\python311\\site-packages (from -r requirements.txt (line 33)) (8.1.1)\n",
      "Requirement already satisfied: isoduration==20.11.0 in c:\\users\\eray\\appdata\\roaming\\python\\python311\\site-packages (from -r requirements.txt (line 34)) (20.11.0)\n",
      "Requirement already satisfied: jedi==0.19.1 in c:\\users\\eray\\appdata\\roaming\\python\\python311\\site-packages (from -r requirements.txt (line 35)) (0.19.1)\n",
      "Requirement already satisfied: Jinja2==3.1.2 in c:\\users\\eray\\appdata\\local\\programs\\python\\python311\\lib\\site-packages (from -r requirements.txt (line 36)) (3.1.2)\n",
      "Requirement already satisfied: joblib==1.3.2 in c:\\users\\eray\\appdata\\roaming\\python\\python311\\site-packages (from -r requirements.txt (line 37)) (1.3.2)\n",
      "Requirement already satisfied: json5==0.9.14 in c:\\users\\eray\\appdata\\local\\programs\\python\\python311\\lib\\site-packages (from -r requirements.txt (line 38)) (0.9.14)\n",
      "Requirement already satisfied: jsonpointer==2.4 in c:\\users\\eray\\appdata\\roaming\\python\\python311\\site-packages (from -r requirements.txt (line 39)) (2.4)\n",
      "Requirement already satisfied: jsonschema==4.19.1 in c:\\users\\eray\\appdata\\roaming\\python\\python311\\site-packages (from -r requirements.txt (line 40)) (4.19.1)\n",
      "Requirement already satisfied: jsonschema-specifications==2023.7.1 in c:\\users\\eray\\appdata\\roaming\\python\\python311\\site-packages (from -r requirements.txt (line 41)) (2023.7.1)\n",
      "Requirement already satisfied: jupyter==1.0.0 in c:\\users\\eray\\appdata\\local\\programs\\python\\python311\\lib\\site-packages (from -r requirements.txt (line 42)) (1.0.0)\n",
      "Requirement already satisfied: jupyter-console==6.6.3 in c:\\users\\eray\\appdata\\local\\programs\\python\\python311\\lib\\site-packages (from -r requirements.txt (line 43)) (6.6.3)\n",
      "Requirement already satisfied: jupyter-events==0.7.0 in c:\\users\\eray\\appdata\\roaming\\python\\python311\\site-packages (from -r requirements.txt (line 44)) (0.7.0)\n",
      "Requirement already satisfied: jupyter-lsp==2.2.0 in c:\\users\\eray\\appdata\\roaming\\python\\python311\\site-packages (from -r requirements.txt (line 45)) (2.2.0)\n",
      "Requirement already satisfied: jupyter_client==8.3.1 in c:\\users\\eray\\appdata\\roaming\\python\\python311\\site-packages (from -r requirements.txt (line 46)) (8.3.1)\n",
      "Requirement already satisfied: jupyter_core==5.3.2 in c:\\users\\eray\\appdata\\roaming\\python\\python311\\site-packages (from -r requirements.txt (line 47)) (5.3.2)\n",
      "Requirement already satisfied: jupyter_server==2.7.3 in c:\\users\\eray\\appdata\\roaming\\python\\python311\\site-packages (from -r requirements.txt (line 48)) (2.7.3)\n",
      "Requirement already satisfied: jupyter_server_terminals==0.4.4 in c:\\users\\eray\\appdata\\roaming\\python\\python311\\site-packages (from -r requirements.txt (line 49)) (0.4.4)\n",
      "Requirement already satisfied: jupyterlab==4.0.6 in c:\\users\\eray\\appdata\\roaming\\python\\python311\\site-packages (from -r requirements.txt (line 50)) (4.0.6)\n",
      "Requirement already satisfied: jupyterlab-pygments==0.2.2 in c:\\users\\eray\\appdata\\roaming\\python\\python311\\site-packages (from -r requirements.txt (line 51)) (0.2.2)\n",
      "Requirement already satisfied: jupyterlab-widgets==3.0.9 in c:\\users\\eray\\appdata\\roaming\\python\\python311\\site-packages (from -r requirements.txt (line 52)) (3.0.9)\n",
      "Requirement already satisfied: jupyterlab_server==2.25.0 in c:\\users\\eray\\appdata\\roaming\\python\\python311\\site-packages (from -r requirements.txt (line 53)) (2.25.0)\n",
      "Requirement already satisfied: kiwisolver==1.4.5 in c:\\users\\eray\\appdata\\roaming\\python\\python311\\site-packages (from -r requirements.txt (line 54)) (1.4.5)\n",
      "Requirement already satisfied: MarkupSafe==2.1.3 in c:\\users\\eray\\appdata\\roaming\\python\\python311\\site-packages (from -r requirements.txt (line 55)) (2.1.3)\n",
      "Requirement already satisfied: matplotlib==3.8.0 in c:\\users\\eray\\appdata\\roaming\\python\\python311\\site-packages (from -r requirements.txt (line 56)) (3.8.0)\n",
      "Requirement already satisfied: matplotlib-inline==0.1.6 in c:\\users\\eray\\appdata\\local\\programs\\python\\python311\\lib\\site-packages (from -r requirements.txt (line 57)) (0.1.6)\n",
      "Requirement already satisfied: mintlemon-turkish-nlp==0.2.5 in c:\\users\\eray\\appdata\\local\\programs\\python\\python311\\lib\\site-packages (from -r requirements.txt (line 58)) (0.2.5)\n",
      "Requirement already satisfied: mistune==3.0.2 in c:\\users\\eray\\appdata\\roaming\\python\\python311\\site-packages (from -r requirements.txt (line 59)) (3.0.2)\n",
      "Requirement already satisfied: nbclient==0.8.0 in c:\\users\\eray\\appdata\\roaming\\python\\python311\\site-packages (from -r requirements.txt (line 60)) (0.8.0)\n",
      "Requirement already satisfied: nbconvert==7.9.2 in c:\\users\\eray\\appdata\\roaming\\python\\python311\\site-packages (from -r requirements.txt (line 61)) (7.9.2)\n",
      "Requirement already satisfied: nbformat==5.9.2 in c:\\users\\eray\\appdata\\local\\programs\\python\\python311\\lib\\site-packages (from -r requirements.txt (line 62)) (5.9.2)\n",
      "Requirement already satisfied: nest-asyncio==1.5.8 in c:\\users\\eray\\appdata\\roaming\\python\\python311\\site-packages (from -r requirements.txt (line 63)) (1.5.8)\n",
      "Requirement already satisfied: nltk==3.8.1 in c:\\users\\eray\\appdata\\local\\programs\\python\\python311\\lib\\site-packages (from -r requirements.txt (line 64)) (3.8.1)\n",
      "Requirement already satisfied: notebook==7.0.4 in c:\\users\\eray\\appdata\\roaming\\python\\python311\\site-packages (from -r requirements.txt (line 65)) (7.0.4)\n",
      "Requirement already satisfied: notebook_shim==0.2.3 in c:\\users\\eray\\appdata\\roaming\\python\\python311\\site-packages (from -r requirements.txt (line 66)) (0.2.3)\n",
      "Requirement already satisfied: numpy==1.25.2 in c:\\users\\eray\\appdata\\roaming\\python\\python311\\site-packages (from -r requirements.txt (line 67)) (1.25.2)\n",
      "Requirement already satisfied: openpyxl==3.1.2 in c:\\users\\eray\\appdata\\roaming\\python\\python311\\site-packages (from -r requirements.txt (line 68)) (3.1.2)\n",
      "Requirement already satisfied: overrides==7.4.0 in c:\\users\\eray\\appdata\\roaming\\python\\python311\\site-packages (from -r requirements.txt (line 69)) (7.4.0)\n",
      "Requirement already satisfied: packaging==23.2 in c:\\users\\eray\\appdata\\roaming\\python\\python311\\site-packages (from -r requirements.txt (line 70)) (23.2)\n",
      "Requirement already satisfied: pandas==2.0.0 in c:\\users\\eray\\appdata\\roaming\\python\\python311\\site-packages (from -r requirements.txt (line 71)) (2.0.0)\n",
      "Requirement already satisfied: pandocfilters==1.5.0 in c:\\users\\eray\\appdata\\local\\programs\\python\\python311\\lib\\site-packages (from -r requirements.txt (line 72)) (1.5.0)\n",
      "Requirement already satisfied: parso==0.8.3 in c:\\users\\eray\\appdata\\local\\programs\\python\\python311\\lib\\site-packages (from -r requirements.txt (line 73)) (0.8.3)\n",
      "Requirement already satisfied: pexpect==4.8.0 in c:\\users\\eray\\appdata\\local\\programs\\python\\python311\\lib\\site-packages (from -r requirements.txt (line 74)) (4.8.0)\n",
      "Requirement already satisfied: pickleshare==0.7.5 in c:\\users\\eray\\appdata\\local\\programs\\python\\python311\\lib\\site-packages (from -r requirements.txt (line 75)) (0.7.5)\n",
      "Requirement already satisfied: Pillow==10.0.1 in c:\\users\\eray\\appdata\\roaming\\python\\python311\\site-packages (from -r requirements.txt (line 76)) (10.0.1)\n",
      "Requirement already satisfied: platformdirs==3.11.0 in c:\\users\\eray\\appdata\\roaming\\python\\python311\\site-packages (from -r requirements.txt (line 77)) (3.11.0)\n",
      "Requirement already satisfied: prometheus-client==0.17.1 in c:\\users\\eray\\appdata\\roaming\\python\\python311\\site-packages (from -r requirements.txt (line 78)) (0.17.1)\n",
      "Requirement already satisfied: prompt-toolkit==3.0.39 in c:\\users\\eray\\appdata\\roaming\\python\\python311\\site-packages (from -r requirements.txt (line 79)) (3.0.39)\n",
      "Requirement already satisfied: psutil==5.9.5 in c:\\users\\eray\\appdata\\roaming\\python\\python311\\site-packages (from -r requirements.txt (line 80)) (5.9.5)\n",
      "Requirement already satisfied: ptyprocess==0.7.0 in c:\\users\\eray\\appdata\\local\\programs\\python\\python311\\lib\\site-packages (from -r requirements.txt (line 81)) (0.7.0)\n",
      "Requirement already satisfied: pure-eval==0.2.2 in c:\\users\\eray\\appdata\\local\\programs\\python\\python311\\lib\\site-packages (from -r requirements.txt (line 82)) (0.2.2)\n",
      "Requirement already satisfied: pycparser==2.21 in c:\\users\\eray\\appdata\\local\\programs\\python\\python311\\lib\\site-packages (from -r requirements.txt (line 83)) (2.21)\n",
      "Requirement already satisfied: Pygments==2.16.1 in c:\\users\\eray\\appdata\\roaming\\python\\python311\\site-packages (from -r requirements.txt (line 84)) (2.16.1)\n",
      "Requirement already satisfied: pyparsing==3.1.1 in c:\\users\\eray\\appdata\\roaming\\python\\python311\\site-packages (from -r requirements.txt (line 85)) (3.1.1)\n",
      "Requirement already satisfied: python-dateutil==2.8.2 in c:\\users\\eray\\appdata\\local\\programs\\python\\python311\\lib\\site-packages (from -r requirements.txt (line 86)) (2.8.2)\n",
      "Requirement already satisfied: python-json-logger==2.0.7 in c:\\users\\eray\\appdata\\local\\programs\\python\\python311\\lib\\site-packages (from -r requirements.txt (line 87)) (2.0.7)\n",
      "Requirement already satisfied: pytz==2023.3.post1 in c:\\users\\eray\\appdata\\local\\programs\\python\\python311\\lib\\site-packages (from -r requirements.txt (line 88)) (2023.3.post1)\n",
      "Requirement already satisfied: PyYAML==6.0.1 in c:\\users\\eray\\appdata\\local\\programs\\python\\python311\\lib\\site-packages (from -r requirements.txt (line 89)) (6.0.1)\n",
      "Requirement already satisfied: pyzmq==25.1.1 in c:\\users\\eray\\appdata\\local\\programs\\python\\python311\\lib\\site-packages (from -r requirements.txt (line 90)) (25.1.1)\n",
      "Requirement already satisfied: qtconsole==5.4.4 in c:\\users\\eray\\appdata\\roaming\\python\\python311\\site-packages (from -r requirements.txt (line 91)) (5.4.4)\n",
      "Requirement already satisfied: QtPy==2.4.0 in c:\\users\\eray\\appdata\\roaming\\python\\python311\\site-packages (from -r requirements.txt (line 92)) (2.4.0)\n",
      "Requirement already satisfied: randetect==0.0.1 in c:\\users\\eray\\appdata\\roaming\\python\\python311\\site-packages (from -r requirements.txt (line 93)) (0.0.1)\n",
      "Requirement already satisfied: referencing==0.30.2 in c:\\users\\eray\\appdata\\roaming\\python\\python311\\site-packages (from -r requirements.txt (line 94)) (0.30.2)\n",
      "Requirement already satisfied: regex==2023.8.8 in c:\\users\\eray\\appdata\\local\\programs\\python\\python311\\lib\\site-packages (from -r requirements.txt (line 95)) (2023.8.8)\n",
      "Requirement already satisfied: requests==2.31.0 in c:\\users\\eray\\appdata\\local\\programs\\python\\python311\\lib\\site-packages (from -r requirements.txt (line 96)) (2.31.0)\n",
      "Requirement already satisfied: rfc3339-validator==0.1.4 in c:\\users\\eray\\appdata\\local\\programs\\python\\python311\\lib\\site-packages (from -r requirements.txt (line 97)) (0.1.4)\n",
      "Requirement already satisfied: rfc3986-validator==0.1.1 in c:\\users\\eray\\appdata\\local\\programs\\python\\python311\\lib\\site-packages (from -r requirements.txt (line 98)) (0.1.1)\n",
      "Requirement already satisfied: rpds-py==0.10.4 in c:\\users\\eray\\appdata\\local\\programs\\python\\python311\\lib\\site-packages (from -r requirements.txt (line 99)) (0.10.4)\n",
      "Requirement already satisfied: scikit-learn==1.3.0 in c:\\users\\eray\\appdata\\local\\programs\\python\\python311\\lib\\site-packages (from -r requirements.txt (line 100)) (1.3.0)\n",
      "Requirement already satisfied: scipy==1.11.2 in c:\\users\\eray\\appdata\\roaming\\python\\python311\\site-packages (from -r requirements.txt (line 101)) (1.11.2)\n",
      "Requirement already satisfied: Send2Trash==1.8.2 in c:\\users\\eray\\appdata\\local\\programs\\python\\python311\\lib\\site-packages (from -r requirements.txt (line 102)) (1.8.2)\n",
      "Requirement already satisfied: six==1.16.0 in c:\\users\\eray\\appdata\\local\\programs\\python\\python311\\lib\\site-packages (from -r requirements.txt (line 103)) (1.16.0)\n",
      "Requirement already satisfied: sniffio==1.3.0 in c:\\users\\eray\\appdata\\local\\programs\\python\\python311\\lib\\site-packages (from -r requirements.txt (line 104)) (1.3.0)\n",
      "Requirement already satisfied: soupsieve==2.5 in c:\\users\\eray\\appdata\\local\\programs\\python\\python311\\lib\\site-packages (from -r requirements.txt (line 105)) (2.5)\n",
      "Requirement already satisfied: stack-data==0.6.3 in c:\\users\\eray\\appdata\\roaming\\python\\python311\\site-packages (from -r requirements.txt (line 106)) (0.6.3)\n",
      "Requirement already satisfied: terminado==0.17.1 in c:\\users\\eray\\appdata\\local\\programs\\python\\python311\\lib\\site-packages (from -r requirements.txt (line 107)) (0.17.1)\n",
      "Requirement already satisfied: threadpoolctl==3.2.0 in c:\\users\\eray\\appdata\\local\\programs\\python\\python311\\lib\\site-packages (from -r requirements.txt (line 108)) (3.2.0)\n",
      "Requirement already satisfied: tinycss2==1.2.1 in c:\\users\\eray\\appdata\\local\\programs\\python\\python311\\lib\\site-packages (from -r requirements.txt (line 109)) (1.2.1)\n",
      "Requirement already satisfied: tornado==6.3.3 in c:\\users\\eray\\appdata\\local\\programs\\python\\python311\\lib\\site-packages (from -r requirements.txt (line 110)) (6.3.3)\n",
      "Requirement already satisfied: tqdm==4.66.1 in c:\\users\\eray\\appdata\\local\\programs\\python\\python311\\lib\\site-packages (from -r requirements.txt (line 111)) (4.66.1)\n",
      "Requirement already satisfied: traitlets==5.11.2 in c:\\users\\eray\\appdata\\local\\programs\\python\\python311\\lib\\site-packages (from -r requirements.txt (line 112)) (5.11.2)\n",
      "Requirement already satisfied: types-python-dateutil==2.8.19.14 in c:\\users\\eray\\appdata\\local\\programs\\python\\python311\\lib\\site-packages (from -r requirements.txt (line 113)) (2.8.19.14)\n",
      "Requirement already satisfied: tzdata==2023.3 in c:\\users\\eray\\appdata\\local\\programs\\python\\python311\\lib\\site-packages (from -r requirements.txt (line 114)) (2023.3)\n",
      "Requirement already satisfied: uri-template==1.3.0 in c:\\users\\eray\\appdata\\local\\programs\\python\\python311\\lib\\site-packages (from -r requirements.txt (line 115)) (1.3.0)\n",
      "Requirement already satisfied: urllib3==2.0.6 in c:\\users\\eray\\appdata\\local\\programs\\python\\python311\\lib\\site-packages (from -r requirements.txt (line 116)) (2.0.6)\n",
      "Requirement already satisfied: wcwidth==0.2.8 in c:\\users\\eray\\appdata\\local\\programs\\python\\python311\\lib\\site-packages (from -r requirements.txt (line 117)) (0.2.8)\n",
      "Requirement already satisfied: webcolors==1.13 in c:\\users\\eray\\appdata\\local\\programs\\python\\python311\\lib\\site-packages (from -r requirements.txt (line 118)) (1.13)\n",
      "Requirement already satisfied: webencodings==0.5.1 in c:\\users\\eray\\appdata\\local\\programs\\python\\python311\\lib\\site-packages (from -r requirements.txt (line 119)) (0.5.1)\n",
      "Requirement already satisfied: websocket-client==1.6.3 in c:\\users\\eray\\appdata\\local\\programs\\python\\python311\\lib\\site-packages (from -r requirements.txt (line 120)) (1.6.3)\n",
      "Requirement already satisfied: widgetsnbextension==4.0.9 in c:\\users\\eray\\appdata\\local\\programs\\python\\python311\\lib\\site-packages (from -r requirements.txt (line 121)) (4.0.9)\n",
      "Requirement already satisfied: zeyrek==0.1.3 in c:\\users\\eray\\appdata\\local\\programs\\python\\python311\\lib\\site-packages (from -r requirements.txt (line 122)) (0.1.3)\n",
      "Requirement already satisfied: colorama in c:\\users\\eray\\appdata\\local\\programs\\python\\python311\\lib\\site-packages (from click==8.1.7->-r requirements.txt (line 16)) (0.4.6)\n",
      "Requirement already satisfied: pywin32>=300 in c:\\users\\eray\\appdata\\local\\programs\\python\\python311\\lib\\site-packages (from jupyter_core==5.3.2->-r requirements.txt (line 47)) (306)\n",
      "Requirement already satisfied: pywinpty in c:\\users\\eray\\appdata\\local\\programs\\python\\python311\\lib\\site-packages (from jupyter_server==2.7.3->-r requirements.txt (line 48)) (2.0.12)\n"
     ]
    }
   ],
   "source": [
    "!pip install -r requirements.txt"
   ]
  },
  {
   "cell_type": "code",
   "execution_count": 2,
   "id": "a3e32669-4e17-42e7-a23c-5449695c1e1f",
   "metadata": {},
   "outputs": [
    {
     "name": "stdout",
     "output_type": "stream",
     "text": [
      "Requirement already satisfied: chardet in c:\\users\\eray\\appdata\\local\\programs\\python\\python311\\lib\\site-packages (5.2.0)\n"
     ]
    }
   ],
   "source": [
    "!pip install chardet"
   ]
  },
  {
   "cell_type": "code",
   "execution_count": 200,
   "id": "2bd2980b-3edd-49f8-a636-a27575ba441e",
   "metadata": {},
   "outputs": [
    {
     "name": "stdout",
     "output_type": "stream",
     "text": [
      "Requirement already satisfied: gensim in c:\\users\\eray\\appdata\\local\\programs\\python\\python311\\lib\\site-packages (4.3.2)\n",
      "Requirement already satisfied: numpy>=1.18.5 in c:\\users\\eray\\appdata\\roaming\\python\\python311\\site-packages (from gensim) (1.25.2)\n",
      "Requirement already satisfied: scipy>=1.7.0 in c:\\users\\eray\\appdata\\roaming\\python\\python311\\site-packages (from gensim) (1.11.2)\n",
      "Requirement already satisfied: smart-open>=1.8.1 in c:\\users\\eray\\appdata\\local\\programs\\python\\python311\\lib\\site-packages (from gensim) (6.4.0)\n"
     ]
    }
   ],
   "source": [
    "!pip install gensim"
   ]
  },
  {
   "cell_type": "code",
   "execution_count": 201,
   "id": "d5d296cb-1fca-4f8f-a230-606224a209d8",
   "metadata": {},
   "outputs": [
    {
     "name": "stdout",
     "output_type": "stream",
     "text": [
      "Requirement already satisfied: openpyxl in c:\\users\\eray\\appdata\\roaming\\python\\python311\\site-packages (3.1.2)\n",
      "Requirement already satisfied: et-xmlfile in c:\\users\\eray\\appdata\\local\\programs\\python\\python311\\lib\\site-packages (from openpyxl) (1.1.0)\n"
     ]
    }
   ],
   "source": [
    "!pip install openpyxl"
   ]
  },
  {
   "cell_type": "markdown",
   "id": "aa290f82119c3dd9",
   "metadata": {
    "collapsed": false,
    "jupyter": {
     "outputs_hidden": false
    }
   },
   "source": [
    "# HABERLER VERİSETİNDEKİ MANŞETLERE GÖRE KATEGORİLERİN İSTATİSTİKSEL MAKİNE ÖĞRENMESİ YAKLAŞIMLARI İLE MAKİNEYE ÖĞRETİLMESİ"
   ]
  },
  {
   "cell_type": "markdown",
   "id": "acca043874853e01",
   "metadata": {
    "collapsed": false,
    "jupyter": {
     "outputs_hidden": false
    }
   },
   "source": [
    "#### Kütüphaneleri burada tanımlıyoruz."
   ]
  },
  {
   "cell_type": "code",
   "execution_count": 202,
   "id": "838d49aa128d514d",
   "metadata": {
    "ExecuteTime": {
     "end_time": "2023-12-25T16:30:51.756952Z",
     "start_time": "2023-12-25T16:30:51.349080Z"
    },
    "collapsed": false,
    "jupyter": {
     "outputs_hidden": false
    }
   },
   "outputs": [],
   "source": [
    "import pandas as pd\n",
    "from mintlemon import Normalizer\n",
    "from sklearn.feature_extraction.text import TfidfVectorizer\n",
    "from sklearn.model_selection import cross_validate, train_test_split\n",
    "from sklearn.metrics import accuracy_score, precision_score, f1_score, recall_score, ConfusionMatrixDisplay, confusion_matrix\n",
    "from sklearn.ensemble import RandomForestClassifier\n",
    "import warnings\n",
    "warnings.simplefilter(action='ignore', category=UserWarning)\n"
   ]
  },
  {
   "cell_type": "markdown",
   "id": "b0e476357ce77465",
   "metadata": {
    "collapsed": false,
    "jupyter": {
     "outputs_hidden": false
    }
   },
   "source": [
    "#### Dataframe yükleme"
   ]
  },
  {
   "cell_type": "code",
   "execution_count": 226,
   "id": "5f2e92f7a9f22384",
   "metadata": {
    "ExecuteTime": {
     "end_time": "2023-12-25T16:30:51.763444Z",
     "start_time": "2023-12-25T16:30:51.360374Z"
    },
    "collapsed": false,
    "jupyter": {
     "outputs_hidden": false
    }
   },
   "outputs": [],
   "source": [
    "df = pd.read_csv('data.csv')"
   ]
  },
  {
   "cell_type": "code",
   "execution_count": 227,
   "id": "4e66a8b61b1e8bc0",
   "metadata": {
    "ExecuteTime": {
     "end_time": "2023-12-25T16:30:51.765878Z",
     "start_time": "2023-12-25T16:30:51.363701Z"
    },
    "collapsed": false,
    "jupyter": {
     "outputs_hidden": false
    },
    "scrolled": true
   },
   "outputs": [
    {
     "data": {
      "text/html": [
       "<div>\n",
       "<style scoped>\n",
       "    .dataframe tbody tr th:only-of-type {\n",
       "        vertical-align: middle;\n",
       "    }\n",
       "\n",
       "    .dataframe tbody tr th {\n",
       "        vertical-align: top;\n",
       "    }\n",
       "\n",
       "    .dataframe thead th {\n",
       "        text-align: right;\n",
       "    }\n",
       "</style>\n",
       "<table border=\"1\" class=\"dataframe\">\n",
       "  <thead>\n",
       "    <tr style=\"text-align: right;\">\n",
       "      <th></th>\n",
       "      <th>Index</th>\n",
       "      <th>Text</th>\n",
       "      <th>Tag</th>\n",
       "    </tr>\n",
       "  </thead>\n",
       "  <tbody>\n",
       "    <tr>\n",
       "      <th>0</th>\n",
       "      <td>0</td>\n",
       "      <td>Tüketmeyi hemen bırakmanız gereken 4 şey</td>\n",
       "      <td>4</td>\n",
       "    </tr>\n",
       "    <tr>\n",
       "      <th>1</th>\n",
       "      <td>1</td>\n",
       "      <td>Fabrikada gaz sızıntısı: 36 kişi hastanelik oldu</td>\n",
       "      <td>4</td>\n",
       "    </tr>\n",
       "    <tr>\n",
       "      <th>2</th>\n",
       "      <td>2</td>\n",
       "      <td>Gece uyumayanların atardamar tıkanıklığına sah...</td>\n",
       "      <td>4</td>\n",
       "    </tr>\n",
       "    <tr>\n",
       "      <th>3</th>\n",
       "      <td>3</td>\n",
       "      <td>Acil servise başvuranların sayısı 2 katına çık...</td>\n",
       "      <td>4</td>\n",
       "    </tr>\n",
       "    <tr>\n",
       "      <th>4</th>\n",
       "      <td>4</td>\n",
       "      <td>Prim borcu olan GSS'liler 2024'te sağlık hizme...</td>\n",
       "      <td>4</td>\n",
       "    </tr>\n",
       "  </tbody>\n",
       "</table>\n",
       "</div>"
      ],
      "text/plain": [
       "   Index                                               Text  Tag\n",
       "0      0           Tüketmeyi hemen bırakmanız gereken 4 şey    4\n",
       "1      1   Fabrikada gaz sızıntısı: 36 kişi hastanelik oldu    4\n",
       "2      2  Gece uyumayanların atardamar tıkanıklığına sah...    4\n",
       "3      3  Acil servise başvuranların sayısı 2 katına çık...    4\n",
       "4      4  Prim borcu olan GSS'liler 2024'te sağlık hizme...    4"
      ]
     },
     "execution_count": 227,
     "metadata": {},
     "output_type": "execute_result"
    }
   ],
   "source": [
    "df.head()"
   ]
  },
  {
   "cell_type": "markdown",
   "id": "f92787d5776d8117",
   "metadata": {
    "collapsed": false,
    "jupyter": {
     "outputs_hidden": false
    }
   },
   "source": [
    "#### Preprocessing - Veri Önişleme aşaması\n",
    "\n",
    "   - Bu aşamada önce boş veri var mı kontrol ederiz ve varsa kaldırırız.\n",
    "   - Daha sonra önişleme işlemlerinin tamamı için *Nane&Limon* ekibinin oluşturduğu https://mintlemon-turkish-nlp.readthedocs.io/en/latest/_module/normalizer.html kütüphanesini kullandık. Kolayca koda entegre edebiliriz."
   ]
  },
  {
   "cell_type": "code",
   "execution_count": 228,
   "id": "8e969df6d62ae173",
   "metadata": {
    "ExecuteTime": {
     "end_time": "2023-12-25T16:30:51.790729Z",
     "start_time": "2023-12-25T16:30:51.382702Z"
    },
    "collapsed": false,
    "jupyter": {
     "outputs_hidden": false
    }
   },
   "outputs": [
    {
     "data": {
      "text/plain": [
       "Index    0\n",
       "Text     0\n",
       "Tag      0\n",
       "dtype: int64"
      ]
     },
     "execution_count": 228,
     "metadata": {},
     "output_type": "execute_result"
    }
   ],
   "source": [
    "df.isnull().sum()"
   ]
  },
  {
   "cell_type": "code",
   "execution_count": 229,
   "id": "e80a816ef90bc347",
   "metadata": {
    "ExecuteTime": {
     "end_time": "2023-12-25T16:30:51.791667Z",
     "start_time": "2023-12-25T16:30:51.384633Z"
    },
    "collapsed": false,
    "jupyter": {
     "outputs_hidden": false
    }
   },
   "outputs": [
    {
     "data": {
      "text/plain": [
       "Index    0\n",
       "Text     0\n",
       "Tag      0\n",
       "dtype: int64"
      ]
     },
     "execution_count": 229,
     "metadata": {},
     "output_type": "execute_result"
    }
   ],
   "source": [
    "df.dropna(inplace=True)\n",
    "df.isnull().sum()"
   ]
  },
  {
   "cell_type": "code",
   "execution_count": 230,
   "id": "33f65181199c36d2",
   "metadata": {
    "ExecuteTime": {
     "end_time": "2023-12-25T16:30:51.791919Z",
     "start_time": "2023-12-25T16:30:51.388236Z"
    },
    "collapsed": false,
    "jupyter": {
     "outputs_hidden": false
    }
   },
   "outputs": [
    {
     "data": {
      "text/plain": [
       "0                Tüketmeyi hemen bırakmanız gereken 4 şey\n",
       "1        Fabrikada gaz sızıntısı: 36 kişi hastanelik oldu\n",
       "2       Gece uyumayanların atardamar tıkanıklığına sah...\n",
       "3       Acil servise başvuranların sayısı 2 katına çık...\n",
       "4       Prim borcu olan GSS'liler 2024'te sağlık hizme...\n",
       "                              ...                        \n",
       "3265    ATO Yönetim Kurulu Başkan Yardımcısı Halil İbr...\n",
       "3266    Yeni Varlık Yönetim Şirketi BLG Varlık Yönetim...\n",
       "3267    Ege İhracatçı Birlikleri, Ekim Ayında İhracatı...\n",
       "3268    Haziran Enflasyonu: Kira ve Doğal Gaz Fiyatlar...\n",
       "3269             TCMB, reeskont faiz oranlarını yükseltti\n",
       "Name: Text, Length: 3270, dtype: object"
      ]
     },
     "execution_count": 230,
     "metadata": {},
     "output_type": "execute_result"
    }
   ],
   "source": [
    "df['Text'] # Boş verileri attıktan sonra temizleme öncesi duruma baktık."
   ]
  },
  {
   "cell_type": "markdown",
   "id": "7add525605b91928",
   "metadata": {
    "collapsed": false,
    "jupyter": {
     "outputs_hidden": false
    }
   },
   "source": [
    "##### Adım adım:\n",
    "##### 1 - remove_stopwords --> Stopwords kaldırıldı.\n",
    "##### 2 - remove_numbers --> Rakamlar kaldırıldı.\n",
    "##### 3 - remove_punctuations --> Her türlü noktalama işareti kaldırıldı.\n",
    "##### 4 - lower_case --> Tüm veri küçük harfe çevrildi.\n",
    "\n",
    "**Ref: https://pypi.org/project/mintlemon-turkish-nlp/**"
   ]
  },
  {
   "cell_type": "code",
   "execution_count": 231,
   "id": "58445339941436da",
   "metadata": {
    "ExecuteTime": {
     "end_time": "2023-12-25T16:30:51.802287Z",
     "start_time": "2023-12-25T16:30:51.449946Z"
    },
    "collapsed": false,
    "jupyter": {
     "outputs_hidden": false
    }
   },
   "outputs": [],
   "source": [
    "#df['Text'] = df['Text'].apply(Normalizer.remove_stopwords)\n",
    "df['Text'] = df['Text'].apply(Normalizer.remove_numbers)\n",
    "df['Text'] = df['Text'].apply(Normalizer.remove_punctuations)\n",
    "df['Text'] = df['Text'].apply(Normalizer.lower_case)"
   ]
  },
  {
   "cell_type": "code",
   "execution_count": 232,
   "id": "eb72e56e84dc3e58",
   "metadata": {
    "ExecuteTime": {
     "end_time": "2023-12-25T16:30:51.807795Z",
     "start_time": "2023-12-25T16:30:51.525937Z"
    },
    "collapsed": false,
    "jupyter": {
     "outputs_hidden": false
    }
   },
   "outputs": [
    {
     "data": {
      "text/plain": [
       "0                  tüketmeyi hemen bırakmanız gereken şey\n",
       "1            fabrikada gaz sızıntısı kişi hastanelik oldu\n",
       "2       gece uyumayanların atardamar tıkanıklığına sah...\n",
       "3       acil servise başvuranların sayısı katına çıktı...\n",
       "4       prim borcu olan gssliler te sağlık hizmeti ala...\n",
       "                              ...                        \n",
       "3265    ato yönetim kurulu başkan yardımcısı halil ibr...\n",
       "3266    yeni varlık yönetim şirketi blg varlık yönetim...\n",
       "3267    ege ihracatçı birlikleri ekim ayında ihracatın...\n",
       "3268    haziran enflasyonu kira ve doğal gaz fiyatları...\n",
       "3269              tcmb reeskont faiz oranlarını yükseltti\n",
       "Name: Text, Length: 3270, dtype: object"
      ]
     },
     "execution_count": 232,
     "metadata": {},
     "output_type": "execute_result"
    }
   ],
   "source": [
    "df['Text'] # Temizleme sonrası durumu kontrol ettik."
   ]
  },
  {
   "cell_type": "markdown",
   "id": "db2a4ba7cfd21486",
   "metadata": {
    "collapsed": false,
    "jupyter": {
     "outputs_hidden": false
    }
   },
   "source": [
    "preprocessing sonrası mutlaka tekrar boş veri olup olmadığı kontrol edilmelidir."
   ]
  },
  {
   "cell_type": "code",
   "execution_count": 233,
   "id": "b24f71123b4925e",
   "metadata": {
    "ExecuteTime": {
     "end_time": "2023-12-25T16:30:51.848158Z",
     "start_time": "2023-12-25T16:30:51.536268Z"
    },
    "collapsed": false,
    "jupyter": {
     "outputs_hidden": false
    }
   },
   "outputs": [
    {
     "data": {
      "text/plain": [
       "Index    0\n",
       "Text     0\n",
       "Tag      0\n",
       "dtype: int64"
      ]
     },
     "execution_count": 233,
     "metadata": {},
     "output_type": "execute_result"
    }
   ],
   "source": [
    "df.isnull().sum()"
   ]
  },
  {
   "cell_type": "code",
   "execution_count": 234,
   "id": "3fff0645887f67fd",
   "metadata": {
    "ExecuteTime": {
     "end_time": "2023-12-25T17:16:00.740608Z",
     "start_time": "2023-12-25T17:16:00.697137Z"
    },
    "collapsed": false,
    "jupyter": {
     "outputs_hidden": false
    }
   },
   "outputs": [
    {
     "data": {
      "text/html": [
       "<div>\n",
       "<style scoped>\n",
       "    .dataframe tbody tr th:only-of-type {\n",
       "        vertical-align: middle;\n",
       "    }\n",
       "\n",
       "    .dataframe tbody tr th {\n",
       "        vertical-align: top;\n",
       "    }\n",
       "\n",
       "    .dataframe thead th {\n",
       "        text-align: right;\n",
       "    }\n",
       "</style>\n",
       "<table border=\"1\" class=\"dataframe\">\n",
       "  <thead>\n",
       "    <tr style=\"text-align: right;\">\n",
       "      <th></th>\n",
       "      <th>Tag</th>\n",
       "      <th>Text</th>\n",
       "    </tr>\n",
       "  </thead>\n",
       "  <tbody>\n",
       "    <tr>\n",
       "      <th>0</th>\n",
       "      <td>0</td>\n",
       "      <td>500</td>\n",
       "    </tr>\n",
       "    <tr>\n",
       "      <th>1</th>\n",
       "      <td>1</td>\n",
       "      <td>500</td>\n",
       "    </tr>\n",
       "    <tr>\n",
       "      <th>2</th>\n",
       "      <td>2</td>\n",
       "      <td>500</td>\n",
       "    </tr>\n",
       "    <tr>\n",
       "      <th>3</th>\n",
       "      <td>3</td>\n",
       "      <td>501</td>\n",
       "    </tr>\n",
       "    <tr>\n",
       "      <th>4</th>\n",
       "      <td>4</td>\n",
       "      <td>501</td>\n",
       "    </tr>\n",
       "    <tr>\n",
       "      <th>5</th>\n",
       "      <td>5</td>\n",
       "      <td>501</td>\n",
       "    </tr>\n",
       "  </tbody>\n",
       "</table>\n",
       "</div>"
      ],
      "text/plain": [
       "   Tag  Text\n",
       "0    0   500\n",
       "1    1   500\n",
       "2    2   500\n",
       "3    3   501\n",
       "4    4   501\n",
       "5    5   501"
      ]
     },
     "execution_count": 234,
     "metadata": {},
     "output_type": "execute_result"
    }
   ],
   "source": [
    "df.groupby('Tag')['Text'].nunique().reset_index() # Hangi etiketten kaç veri var? Her sınıftan yaklaşık eşit sayıda veri olması sınıflandırma başarısı için önemlidir."
   ]
  },
  {
   "cell_type": "code",
   "execution_count": 235,
   "id": "213a4a684256e46c",
   "metadata": {
    "ExecuteTime": {
     "end_time": "2023-12-25T16:30:51.848533Z",
     "start_time": "2023-12-25T16:30:51.539467Z"
    },
    "collapsed": false,
    "jupyter": {
     "outputs_hidden": false
    }
   },
   "outputs": [],
   "source": [
    "X=df[\"Text\"]\n",
    "y=df[\"Tag\"]"
   ]
  },
  {
   "cell_type": "code",
   "execution_count": 236,
   "id": "19194f02858f3b7",
   "metadata": {
    "ExecuteTime": {
     "end_time": "2023-12-25T16:30:51.848729Z",
     "start_time": "2023-12-25T16:30:51.542596Z"
    },
    "collapsed": false,
    "jupyter": {
     "outputs_hidden": false
    }
   },
   "outputs": [
    {
     "data": {
      "text/plain": [
       "0                  tüketmeyi hemen bırakmanız gereken şey\n",
       "1            fabrikada gaz sızıntısı kişi hastanelik oldu\n",
       "2       gece uyumayanların atardamar tıkanıklığına sah...\n",
       "3       acil servise başvuranların sayısı katına çıktı...\n",
       "4       prim borcu olan gssliler te sağlık hizmeti ala...\n",
       "                              ...                        \n",
       "3265    ato yönetim kurulu başkan yardımcısı halil ibr...\n",
       "3266    yeni varlık yönetim şirketi blg varlık yönetim...\n",
       "3267    ege ihracatçı birlikleri ekim ayında ihracatın...\n",
       "3268    haziran enflasyonu kira ve doğal gaz fiyatları...\n",
       "3269              tcmb reeskont faiz oranlarını yükseltti\n",
       "Name: Text, Length: 3270, dtype: object"
      ]
     },
     "execution_count": 236,
     "metadata": {},
     "output_type": "execute_result"
    }
   ],
   "source": [
    "X"
   ]
  },
  {
   "cell_type": "code",
   "execution_count": 237,
   "id": "4ddb3053e2a589ef",
   "metadata": {
    "ExecuteTime": {
     "end_time": "2023-12-25T16:30:51.863413Z",
     "start_time": "2023-12-25T16:30:51.545414Z"
    },
    "collapsed": false,
    "jupyter": {
     "outputs_hidden": false
    }
   },
   "outputs": [
    {
     "data": {
      "text/plain": [
       "0       4\n",
       "1       4\n",
       "2       4\n",
       "3       4\n",
       "4       4\n",
       "       ..\n",
       "3265    5\n",
       "3266    5\n",
       "3267    5\n",
       "3268    5\n",
       "3269    5\n",
       "Name: Tag, Length: 3270, dtype: int64"
      ]
     },
     "execution_count": 237,
     "metadata": {},
     "output_type": "execute_result"
    }
   ],
   "source": [
    "y"
   ]
  },
  {
   "cell_type": "markdown",
   "id": "a43af87e11944471",
   "metadata": {
    "collapsed": false,
    "jupyter": {
     "outputs_hidden": false
    }
   },
   "source": [
    "#### Vektörleştirme - Vectorization \n",
    "\n",
    "Temizlediğimiz verinin ise matematiksel bir anlam içermesi gerekir ki modellenebilsin. Bu yüzden TfidfVectorizer kullandık."
   ]
  },
  {
   "cell_type": "code",
   "execution_count": 238,
   "id": "ad122a72c4038e10",
   "metadata": {
    "ExecuteTime": {
     "end_time": "2023-12-25T16:30:51.876985Z",
     "start_time": "2023-12-25T16:30:51.550653Z"
    },
    "collapsed": false,
    "jupyter": {
     "outputs_hidden": false
    }
   },
   "outputs": [],
   "source": [
    "def vectorize(data, tfidf_vect_fit):\n",
    "    X_tfidf = tfidf_vect_fit.transform(data)\n",
    "    words = tfidf_vect_fit.get_feature_names_out()\n",
    "    X_tfidf_df = pd.DataFrame(X_tfidf.toarray())\n",
    "    X_tfidf_df.columns = words\n",
    "    return X_tfidf_df"
   ]
  },
  {
   "cell_type": "code",
   "execution_count": 239,
   "id": "d3e04228caacb2aa",
   "metadata": {
    "ExecuteTime": {
     "end_time": "2023-12-25T16:30:51.887171Z",
     "start_time": "2023-12-25T16:30:51.555228Z"
    },
    "collapsed": false,
    "jupyter": {
     "outputs_hidden": false
    }
   },
   "outputs": [],
   "source": [
    "tfidf_vect = TfidfVectorizer()\n",
    "tfidf_vect_fit=tfidf_vect.fit(df['Text'])"
   ]
  },
  {
   "cell_type": "code",
   "execution_count": 240,
   "id": "8a20f1d2dff5e1d6",
   "metadata": {
    "ExecuteTime": {
     "end_time": "2023-12-25T16:30:51.892939Z",
     "start_time": "2023-12-25T16:30:51.561719Z"
    },
    "collapsed": false,
    "jupyter": {
     "outputs_hidden": false
    }
   },
   "outputs": [],
   "source": [
    "X=vectorize(X,tfidf_vect_fit)"
   ]
  },
  {
   "cell_type": "code",
   "execution_count": 241,
   "id": "dad469019618ccdf",
   "metadata": {
    "ExecuteTime": {
     "end_time": "2023-12-25T16:30:51.929724Z",
     "start_time": "2023-12-25T16:30:51.565980Z"
    },
    "collapsed": false,
    "jupyter": {
     "outputs_hidden": false
    }
   },
   "outputs": [
    {
     "data": {
      "text/html": [
       "<div>\n",
       "<style scoped>\n",
       "    .dataframe tbody tr th:only-of-type {\n",
       "        vertical-align: middle;\n",
       "    }\n",
       "\n",
       "    .dataframe tbody tr th {\n",
       "        vertical-align: top;\n",
       "    }\n",
       "\n",
       "    .dataframe thead th {\n",
       "        text-align: right;\n",
       "    }\n",
       "</style>\n",
       "<table border=\"1\" class=\"dataframe\">\n",
       "  <thead>\n",
       "    <tr style=\"text-align: right;\">\n",
       "      <th></th>\n",
       "      <th>aadaylığını</th>\n",
       "      <th>aadayı</th>\n",
       "      <th>aaktüel</th>\n",
       "      <th>ab</th>\n",
       "      <th>abartısız</th>\n",
       "      <th>abb</th>\n",
       "      <th>abbvie</th>\n",
       "      <th>abd</th>\n",
       "      <th>abdde</th>\n",
       "      <th>abdden</th>\n",
       "      <th>...</th>\n",
       "      <th>şutla</th>\n",
       "      <th>şükür</th>\n",
       "      <th>şüpheli</th>\n",
       "      <th>şüphelisi</th>\n",
       "      <th>şüphesi</th>\n",
       "      <th>şüpheye</th>\n",
       "      <th>şık</th>\n",
       "      <th>şırnak</th>\n",
       "      <th>şırnakta</th>\n",
       "      <th>şırnaktaki</th>\n",
       "    </tr>\n",
       "  </thead>\n",
       "  <tbody>\n",
       "    <tr>\n",
       "      <th>0</th>\n",
       "      <td>0.0</td>\n",
       "      <td>0.0</td>\n",
       "      <td>0.0</td>\n",
       "      <td>0.0</td>\n",
       "      <td>0.0</td>\n",
       "      <td>0.0</td>\n",
       "      <td>0.0</td>\n",
       "      <td>0.0</td>\n",
       "      <td>0.0</td>\n",
       "      <td>0.0</td>\n",
       "      <td>...</td>\n",
       "      <td>0.0</td>\n",
       "      <td>0.0</td>\n",
       "      <td>0.0</td>\n",
       "      <td>0.0</td>\n",
       "      <td>0.0</td>\n",
       "      <td>0.0</td>\n",
       "      <td>0.0</td>\n",
       "      <td>0.0</td>\n",
       "      <td>0.0</td>\n",
       "      <td>0.0</td>\n",
       "    </tr>\n",
       "    <tr>\n",
       "      <th>1</th>\n",
       "      <td>0.0</td>\n",
       "      <td>0.0</td>\n",
       "      <td>0.0</td>\n",
       "      <td>0.0</td>\n",
       "      <td>0.0</td>\n",
       "      <td>0.0</td>\n",
       "      <td>0.0</td>\n",
       "      <td>0.0</td>\n",
       "      <td>0.0</td>\n",
       "      <td>0.0</td>\n",
       "      <td>...</td>\n",
       "      <td>0.0</td>\n",
       "      <td>0.0</td>\n",
       "      <td>0.0</td>\n",
       "      <td>0.0</td>\n",
       "      <td>0.0</td>\n",
       "      <td>0.0</td>\n",
       "      <td>0.0</td>\n",
       "      <td>0.0</td>\n",
       "      <td>0.0</td>\n",
       "      <td>0.0</td>\n",
       "    </tr>\n",
       "    <tr>\n",
       "      <th>2</th>\n",
       "      <td>0.0</td>\n",
       "      <td>0.0</td>\n",
       "      <td>0.0</td>\n",
       "      <td>0.0</td>\n",
       "      <td>0.0</td>\n",
       "      <td>0.0</td>\n",
       "      <td>0.0</td>\n",
       "      <td>0.0</td>\n",
       "      <td>0.0</td>\n",
       "      <td>0.0</td>\n",
       "      <td>...</td>\n",
       "      <td>0.0</td>\n",
       "      <td>0.0</td>\n",
       "      <td>0.0</td>\n",
       "      <td>0.0</td>\n",
       "      <td>0.0</td>\n",
       "      <td>0.0</td>\n",
       "      <td>0.0</td>\n",
       "      <td>0.0</td>\n",
       "      <td>0.0</td>\n",
       "      <td>0.0</td>\n",
       "    </tr>\n",
       "    <tr>\n",
       "      <th>3</th>\n",
       "      <td>0.0</td>\n",
       "      <td>0.0</td>\n",
       "      <td>0.0</td>\n",
       "      <td>0.0</td>\n",
       "      <td>0.0</td>\n",
       "      <td>0.0</td>\n",
       "      <td>0.0</td>\n",
       "      <td>0.0</td>\n",
       "      <td>0.0</td>\n",
       "      <td>0.0</td>\n",
       "      <td>...</td>\n",
       "      <td>0.0</td>\n",
       "      <td>0.0</td>\n",
       "      <td>0.0</td>\n",
       "      <td>0.0</td>\n",
       "      <td>0.0</td>\n",
       "      <td>0.0</td>\n",
       "      <td>0.0</td>\n",
       "      <td>0.0</td>\n",
       "      <td>0.0</td>\n",
       "      <td>0.0</td>\n",
       "    </tr>\n",
       "    <tr>\n",
       "      <th>4</th>\n",
       "      <td>0.0</td>\n",
       "      <td>0.0</td>\n",
       "      <td>0.0</td>\n",
       "      <td>0.0</td>\n",
       "      <td>0.0</td>\n",
       "      <td>0.0</td>\n",
       "      <td>0.0</td>\n",
       "      <td>0.0</td>\n",
       "      <td>0.0</td>\n",
       "      <td>0.0</td>\n",
       "      <td>...</td>\n",
       "      <td>0.0</td>\n",
       "      <td>0.0</td>\n",
       "      <td>0.0</td>\n",
       "      <td>0.0</td>\n",
       "      <td>0.0</td>\n",
       "      <td>0.0</td>\n",
       "      <td>0.0</td>\n",
       "      <td>0.0</td>\n",
       "      <td>0.0</td>\n",
       "      <td>0.0</td>\n",
       "    </tr>\n",
       "    <tr>\n",
       "      <th>...</th>\n",
       "      <td>...</td>\n",
       "      <td>...</td>\n",
       "      <td>...</td>\n",
       "      <td>...</td>\n",
       "      <td>...</td>\n",
       "      <td>...</td>\n",
       "      <td>...</td>\n",
       "      <td>...</td>\n",
       "      <td>...</td>\n",
       "      <td>...</td>\n",
       "      <td>...</td>\n",
       "      <td>...</td>\n",
       "      <td>...</td>\n",
       "      <td>...</td>\n",
       "      <td>...</td>\n",
       "      <td>...</td>\n",
       "      <td>...</td>\n",
       "      <td>...</td>\n",
       "      <td>...</td>\n",
       "      <td>...</td>\n",
       "      <td>...</td>\n",
       "    </tr>\n",
       "    <tr>\n",
       "      <th>3265</th>\n",
       "      <td>0.0</td>\n",
       "      <td>0.0</td>\n",
       "      <td>0.0</td>\n",
       "      <td>0.0</td>\n",
       "      <td>0.0</td>\n",
       "      <td>0.0</td>\n",
       "      <td>0.0</td>\n",
       "      <td>0.0</td>\n",
       "      <td>0.0</td>\n",
       "      <td>0.0</td>\n",
       "      <td>...</td>\n",
       "      <td>0.0</td>\n",
       "      <td>0.0</td>\n",
       "      <td>0.0</td>\n",
       "      <td>0.0</td>\n",
       "      <td>0.0</td>\n",
       "      <td>0.0</td>\n",
       "      <td>0.0</td>\n",
       "      <td>0.0</td>\n",
       "      <td>0.0</td>\n",
       "      <td>0.0</td>\n",
       "    </tr>\n",
       "    <tr>\n",
       "      <th>3266</th>\n",
       "      <td>0.0</td>\n",
       "      <td>0.0</td>\n",
       "      <td>0.0</td>\n",
       "      <td>0.0</td>\n",
       "      <td>0.0</td>\n",
       "      <td>0.0</td>\n",
       "      <td>0.0</td>\n",
       "      <td>0.0</td>\n",
       "      <td>0.0</td>\n",
       "      <td>0.0</td>\n",
       "      <td>...</td>\n",
       "      <td>0.0</td>\n",
       "      <td>0.0</td>\n",
       "      <td>0.0</td>\n",
       "      <td>0.0</td>\n",
       "      <td>0.0</td>\n",
       "      <td>0.0</td>\n",
       "      <td>0.0</td>\n",
       "      <td>0.0</td>\n",
       "      <td>0.0</td>\n",
       "      <td>0.0</td>\n",
       "    </tr>\n",
       "    <tr>\n",
       "      <th>3267</th>\n",
       "      <td>0.0</td>\n",
       "      <td>0.0</td>\n",
       "      <td>0.0</td>\n",
       "      <td>0.0</td>\n",
       "      <td>0.0</td>\n",
       "      <td>0.0</td>\n",
       "      <td>0.0</td>\n",
       "      <td>0.0</td>\n",
       "      <td>0.0</td>\n",
       "      <td>0.0</td>\n",
       "      <td>...</td>\n",
       "      <td>0.0</td>\n",
       "      <td>0.0</td>\n",
       "      <td>0.0</td>\n",
       "      <td>0.0</td>\n",
       "      <td>0.0</td>\n",
       "      <td>0.0</td>\n",
       "      <td>0.0</td>\n",
       "      <td>0.0</td>\n",
       "      <td>0.0</td>\n",
       "      <td>0.0</td>\n",
       "    </tr>\n",
       "    <tr>\n",
       "      <th>3268</th>\n",
       "      <td>0.0</td>\n",
       "      <td>0.0</td>\n",
       "      <td>0.0</td>\n",
       "      <td>0.0</td>\n",
       "      <td>0.0</td>\n",
       "      <td>0.0</td>\n",
       "      <td>0.0</td>\n",
       "      <td>0.0</td>\n",
       "      <td>0.0</td>\n",
       "      <td>0.0</td>\n",
       "      <td>...</td>\n",
       "      <td>0.0</td>\n",
       "      <td>0.0</td>\n",
       "      <td>0.0</td>\n",
       "      <td>0.0</td>\n",
       "      <td>0.0</td>\n",
       "      <td>0.0</td>\n",
       "      <td>0.0</td>\n",
       "      <td>0.0</td>\n",
       "      <td>0.0</td>\n",
       "      <td>0.0</td>\n",
       "    </tr>\n",
       "    <tr>\n",
       "      <th>3269</th>\n",
       "      <td>0.0</td>\n",
       "      <td>0.0</td>\n",
       "      <td>0.0</td>\n",
       "      <td>0.0</td>\n",
       "      <td>0.0</td>\n",
       "      <td>0.0</td>\n",
       "      <td>0.0</td>\n",
       "      <td>0.0</td>\n",
       "      <td>0.0</td>\n",
       "      <td>0.0</td>\n",
       "      <td>...</td>\n",
       "      <td>0.0</td>\n",
       "      <td>0.0</td>\n",
       "      <td>0.0</td>\n",
       "      <td>0.0</td>\n",
       "      <td>0.0</td>\n",
       "      <td>0.0</td>\n",
       "      <td>0.0</td>\n",
       "      <td>0.0</td>\n",
       "      <td>0.0</td>\n",
       "      <td>0.0</td>\n",
       "    </tr>\n",
       "  </tbody>\n",
       "</table>\n",
       "<p>3270 rows × 9013 columns</p>\n",
       "</div>"
      ],
      "text/plain": [
       "      aadaylığını  aadayı  aaktüel   ab  abartısız  abb  abbvie  abd  abdde   \n",
       "0             0.0     0.0      0.0  0.0        0.0  0.0     0.0  0.0    0.0  \\\n",
       "1             0.0     0.0      0.0  0.0        0.0  0.0     0.0  0.0    0.0   \n",
       "2             0.0     0.0      0.0  0.0        0.0  0.0     0.0  0.0    0.0   \n",
       "3             0.0     0.0      0.0  0.0        0.0  0.0     0.0  0.0    0.0   \n",
       "4             0.0     0.0      0.0  0.0        0.0  0.0     0.0  0.0    0.0   \n",
       "...           ...     ...      ...  ...        ...  ...     ...  ...    ...   \n",
       "3265          0.0     0.0      0.0  0.0        0.0  0.0     0.0  0.0    0.0   \n",
       "3266          0.0     0.0      0.0  0.0        0.0  0.0     0.0  0.0    0.0   \n",
       "3267          0.0     0.0      0.0  0.0        0.0  0.0     0.0  0.0    0.0   \n",
       "3268          0.0     0.0      0.0  0.0        0.0  0.0     0.0  0.0    0.0   \n",
       "3269          0.0     0.0      0.0  0.0        0.0  0.0     0.0  0.0    0.0   \n",
       "\n",
       "      abdden  ...  şutla  şükür  şüpheli  şüphelisi  şüphesi  şüpheye  şık   \n",
       "0        0.0  ...    0.0    0.0      0.0        0.0      0.0      0.0  0.0  \\\n",
       "1        0.0  ...    0.0    0.0      0.0        0.0      0.0      0.0  0.0   \n",
       "2        0.0  ...    0.0    0.0      0.0        0.0      0.0      0.0  0.0   \n",
       "3        0.0  ...    0.0    0.0      0.0        0.0      0.0      0.0  0.0   \n",
       "4        0.0  ...    0.0    0.0      0.0        0.0      0.0      0.0  0.0   \n",
       "...      ...  ...    ...    ...      ...        ...      ...      ...  ...   \n",
       "3265     0.0  ...    0.0    0.0      0.0        0.0      0.0      0.0  0.0   \n",
       "3266     0.0  ...    0.0    0.0      0.0        0.0      0.0      0.0  0.0   \n",
       "3267     0.0  ...    0.0    0.0      0.0        0.0      0.0      0.0  0.0   \n",
       "3268     0.0  ...    0.0    0.0      0.0        0.0      0.0      0.0  0.0   \n",
       "3269     0.0  ...    0.0    0.0      0.0        0.0      0.0      0.0  0.0   \n",
       "\n",
       "      şırnak  şırnakta  şırnaktaki  \n",
       "0        0.0       0.0         0.0  \n",
       "1        0.0       0.0         0.0  \n",
       "2        0.0       0.0         0.0  \n",
       "3        0.0       0.0         0.0  \n",
       "4        0.0       0.0         0.0  \n",
       "...      ...       ...         ...  \n",
       "3265     0.0       0.0         0.0  \n",
       "3266     0.0       0.0         0.0  \n",
       "3267     0.0       0.0         0.0  \n",
       "3268     0.0       0.0         0.0  \n",
       "3269     0.0       0.0         0.0  \n",
       "\n",
       "[3270 rows x 9013 columns]"
      ]
     },
     "execution_count": 241,
     "metadata": {},
     "output_type": "execute_result"
    }
   ],
   "source": [
    "X"
   ]
  },
  {
   "cell_type": "markdown",
   "id": "c9c5b15fbd0aa0b5",
   "metadata": {
    "collapsed": false,
    "jupyter": {
     "outputs_hidden": false
    }
   },
   "source": [
    "Tüm veriyi train ve test olarak split ettirdik."
   ]
  },
  {
   "cell_type": "code",
   "execution_count": 242,
   "id": "90c9c495454ed352",
   "metadata": {
    "ExecuteTime": {
     "end_time": "2023-12-25T16:40:37.838201Z",
     "start_time": "2023-12-25T16:40:37.795275Z"
    },
    "collapsed": false,
    "jupyter": {
     "outputs_hidden": false
    }
   },
   "outputs": [],
   "source": [
    "x_train,x_test,y_train,y_test=train_test_split(X,y,random_state=42, test_size=20)"
   ]
  },
  {
   "cell_type": "markdown",
   "id": "b79ff83e6a599f9",
   "metadata": {
    "collapsed": false,
    "jupyter": {
     "outputs_hidden": false
    }
   },
   "source": [
    "#### Modelleme"
   ]
  },
  {
   "cell_type": "code",
   "execution_count": 243,
   "id": "6e7d186edecfd9b6",
   "metadata": {
    "ExecuteTime": {
     "end_time": "2023-12-25T16:40:38.736960Z",
     "start_time": "2023-12-25T16:40:38.405299Z"
    },
    "collapsed": false,
    "jupyter": {
     "outputs_hidden": false
    }
   },
   "outputs": [
    {
     "data": {
      "text/html": [
       "<style>#sk-container-id-7 {color: black;}#sk-container-id-7 pre{padding: 0;}#sk-container-id-7 div.sk-toggleable {background-color: white;}#sk-container-id-7 label.sk-toggleable__label {cursor: pointer;display: block;width: 100%;margin-bottom: 0;padding: 0.3em;box-sizing: border-box;text-align: center;}#sk-container-id-7 label.sk-toggleable__label-arrow:before {content: \"▸\";float: left;margin-right: 0.25em;color: #696969;}#sk-container-id-7 label.sk-toggleable__label-arrow:hover:before {color: black;}#sk-container-id-7 div.sk-estimator:hover label.sk-toggleable__label-arrow:before {color: black;}#sk-container-id-7 div.sk-toggleable__content {max-height: 0;max-width: 0;overflow: hidden;text-align: left;background-color: #f0f8ff;}#sk-container-id-7 div.sk-toggleable__content pre {margin: 0.2em;color: black;border-radius: 0.25em;background-color: #f0f8ff;}#sk-container-id-7 input.sk-toggleable__control:checked~div.sk-toggleable__content {max-height: 200px;max-width: 100%;overflow: auto;}#sk-container-id-7 input.sk-toggleable__control:checked~label.sk-toggleable__label-arrow:before {content: \"▾\";}#sk-container-id-7 div.sk-estimator input.sk-toggleable__control:checked~label.sk-toggleable__label {background-color: #d4ebff;}#sk-container-id-7 div.sk-label input.sk-toggleable__control:checked~label.sk-toggleable__label {background-color: #d4ebff;}#sk-container-id-7 input.sk-hidden--visually {border: 0;clip: rect(1px 1px 1px 1px);clip: rect(1px, 1px, 1px, 1px);height: 1px;margin: -1px;overflow: hidden;padding: 0;position: absolute;width: 1px;}#sk-container-id-7 div.sk-estimator {font-family: monospace;background-color: #f0f8ff;border: 1px dotted black;border-radius: 0.25em;box-sizing: border-box;margin-bottom: 0.5em;}#sk-container-id-7 div.sk-estimator:hover {background-color: #d4ebff;}#sk-container-id-7 div.sk-parallel-item::after {content: \"\";width: 100%;border-bottom: 1px solid gray;flex-grow: 1;}#sk-container-id-7 div.sk-label:hover label.sk-toggleable__label {background-color: #d4ebff;}#sk-container-id-7 div.sk-serial::before {content: \"\";position: absolute;border-left: 1px solid gray;box-sizing: border-box;top: 0;bottom: 0;left: 50%;z-index: 0;}#sk-container-id-7 div.sk-serial {display: flex;flex-direction: column;align-items: center;background-color: white;padding-right: 0.2em;padding-left: 0.2em;position: relative;}#sk-container-id-7 div.sk-item {position: relative;z-index: 1;}#sk-container-id-7 div.sk-parallel {display: flex;align-items: stretch;justify-content: center;background-color: white;position: relative;}#sk-container-id-7 div.sk-item::before, #sk-container-id-7 div.sk-parallel-item::before {content: \"\";position: absolute;border-left: 1px solid gray;box-sizing: border-box;top: 0;bottom: 0;left: 50%;z-index: -1;}#sk-container-id-7 div.sk-parallel-item {display: flex;flex-direction: column;z-index: 1;position: relative;background-color: white;}#sk-container-id-7 div.sk-parallel-item:first-child::after {align-self: flex-end;width: 50%;}#sk-container-id-7 div.sk-parallel-item:last-child::after {align-self: flex-start;width: 50%;}#sk-container-id-7 div.sk-parallel-item:only-child::after {width: 0;}#sk-container-id-7 div.sk-dashed-wrapped {border: 1px dashed gray;margin: 0 0.4em 0.5em 0.4em;box-sizing: border-box;padding-bottom: 0.4em;background-color: white;}#sk-container-id-7 div.sk-label label {font-family: monospace;font-weight: bold;display: inline-block;line-height: 1.2em;}#sk-container-id-7 div.sk-label-container {text-align: center;}#sk-container-id-7 div.sk-container {/* jupyter's `normalize.less` sets `[hidden] { display: none; }` but bootstrap.min.css set `[hidden] { display: none !important; }` so we also need the `!important` here to be able to override the default hidden behavior on the sphinx rendered scikit-learn.org. See: https://github.com/scikit-learn/scikit-learn/issues/21755 */display: inline-block !important;position: relative;}#sk-container-id-7 div.sk-text-repr-fallback {display: none;}</style><div id=\"sk-container-id-7\" class=\"sk-top-container\"><div class=\"sk-text-repr-fallback\"><pre>RandomForestClassifier()</pre><b>In a Jupyter environment, please rerun this cell to show the HTML representation or trust the notebook. <br />On GitHub, the HTML representation is unable to render, please try loading this page with nbviewer.org.</b></div><div class=\"sk-container\" hidden><div class=\"sk-item\"><div class=\"sk-estimator sk-toggleable\"><input class=\"sk-toggleable__control sk-hidden--visually\" id=\"sk-estimator-id-7\" type=\"checkbox\" checked><label for=\"sk-estimator-id-7\" class=\"sk-toggleable__label sk-toggleable__label-arrow\">RandomForestClassifier</label><div class=\"sk-toggleable__content\"><pre>RandomForestClassifier()</pre></div></div></div></div></div>"
      ],
      "text/plain": [
       "RandomForestClassifier()"
      ]
     },
     "execution_count": 243,
     "metadata": {},
     "output_type": "execute_result"
    }
   ],
   "source": [
    "rf1=RandomForestClassifier()\n",
    "rf1.fit(x_train, y_train)"
   ]
  },
  {
   "cell_type": "code",
   "execution_count": 244,
   "id": "6ee17de153c1dc64",
   "metadata": {
    "ExecuteTime": {
     "end_time": "2023-12-25T16:40:38.737512Z",
     "start_time": "2023-12-25T16:40:38.728446Z"
    },
    "collapsed": false,
    "jupyter": {
     "outputs_hidden": false
    }
   },
   "outputs": [],
   "source": [
    "y_pred = rf1.predict(x_test)"
   ]
  },
  {
   "cell_type": "code",
   "execution_count": 246,
   "id": "beed64a9006a106f",
   "metadata": {
    "ExecuteTime": {
     "end_time": "2023-12-25T16:40:38.750100Z",
     "start_time": "2023-12-25T16:40:38.733268Z"
    },
    "collapsed": false,
    "jupyter": {
     "outputs_hidden": false
    }
   },
   "outputs": [
    {
     "name": "stdout",
     "output_type": "stream",
     "text": [
      "Accuracy: 0.5\n",
      "Precision: 0.6349206349206349\n",
      "Recall: 0.5416666666666666\n",
      "F1 Score: 0.4694444444444444\n"
     ]
    }
   ],
   "source": [
    "accuracy = accuracy_score(y_test, y_pred)\n",
    "precision = precision_score(y_test, y_pred, average='macro')  # or 'micro', 'weighted'\n",
    "recall = recall_score(y_test, y_pred, average='macro')        # or 'micro', 'weighted'\n",
    "f1 = f1_score(y_test, y_pred, average='macro')   \n",
    "\n",
    "print(\"Accuracy:\", accuracy)\n",
    "print(\"Precision:\", precision)\n",
    "print(\"Recall:\", recall)\n",
    "print(\"F1 Score:\", f1)"
   ]
  },
  {
   "cell_type": "code",
   "execution_count": 247,
   "id": "a08e9c94d60c9d40",
   "metadata": {
    "ExecuteTime": {
     "end_time": "2023-12-25T16:40:38.909922Z",
     "start_time": "2023-12-25T16:40:38.829906Z"
    },
    "collapsed": false,
    "jupyter": {
     "outputs_hidden": false
    }
   },
   "outputs": [
    {
     "data": {
      "image/png": "[encoded data removed]",
      "text/plain": [
       "<Figure size 640x480 with 2 Axes>"
      ]
     },
     "metadata": {},
     "output_type": "display_data"
    }
   ],
   "source": [
    "# Karmaşıklık matrisinin oluşturulması\n",
    "cm = confusion_matrix(y_test, y_pred)\n",
    "\n",
    "ConfusionMatrixDisplay(confusion_matrix=cm).plot();"
   ]
  },
  {
   "cell_type": "markdown",
   "id": "632e3eca3cfe0203",
   "metadata": {
    "collapsed": false,
    "jupyter": {
     "outputs_hidden": false
    }
   },
   "source": [
    "Cross Validation kullanarak yaparsak aşağıdaki gibi olur."
   ]
  },
  {
   "cell_type": "code",
   "execution_count": 250,
   "id": "903c42ebcca40fda",
   "metadata": {
    "ExecuteTime": {
     "end_time": "2023-12-25T16:39:24.806113Z",
     "start_time": "2023-12-25T16:39:21.876437Z"
    },
    "collapsed": false,
    "jupyter": {
     "outputs_hidden": false
    }
   },
   "outputs": [
    {
     "name": "stdout",
     "output_type": "stream",
     "text": [
      "Precision:  0.707875711284783\n",
      "Recall:  0.6117327919910938\n",
      "F1 Score:  0.6241944122621756\n",
      "Accuracy:  0.6125382262996942\n"
     ]
    }
   ],
   "source": [
    "from sklearn.metrics import make_scorer, precision_score, recall_score, f1_score, accuracy_score\n",
    "\n",
    "rf2 = RandomForestClassifier()\n",
    "\n",
    "# Özel ortalama metodları ile özel değerlendirmelerin tanımlanması\n",
    "\n",
    "scoring = {\n",
    "    'precision': make_scorer(precision_score, average='macro'),  # or 'micro', 'weighted'\n",
    "    'recall': make_scorer(recall_score, average='macro'),        # or 'micro', 'weighted'\n",
    "    'f1': make_scorer(f1_score, average='macro'),                # or 'micro', 'weighted'\n",
    "    'accuracy': make_scorer(accuracy_score)\n",
    "}\n",
    "scores = cross_validate(rf2, X, y, scoring=scoring, cv=10, return_train_score=False)\n",
    "\n",
    "print('Precision: ', scores['test_precision'].mean())\n",
    "print('Recall: ', scores['test_recall'].mean())\n",
    "print('F1 Score: ', scores['test_f1'].mean())\n",
    "print('Accuracy: ', scores['test_accuracy'].mean())\n"
   ]
  },
  {
   "cell_type": "markdown",
   "id": "b5ec878cb3f12bfb",
   "metadata": {
    "collapsed": false,
    "jupyter": {
     "outputs_hidden": false
    }
   },
   "source": [
    "Ne kadar başarılı olduğunu kendi girdiğimiz metinler ile deneyebiliriz."
   ]
  },
  {
   "cell_type": "code",
   "execution_count": 256,
   "id": "70dda3357fe70e55",
   "metadata": {
    "ExecuteTime": {
     "end_time": "2023-12-25T16:39:36.592060Z",
     "start_time": "2023-12-25T16:39:36.564642Z"
    },
    "collapsed": false,
    "jupyter": {
     "outputs_hidden": false
    }
   },
   "outputs": [
    {
     "name": "stdout",
     "output_type": "stream",
     "text": [
      "Sınıflandırma sonucu :\n",
      "faiz arttırma kararı çıktı : 5 \n",
      "suya zam geldi : 5\n"
     ]
    }
   ],
   "source": [
    "# Yeni metni sınıflandırma denemesi\n",
    "new_text = [\"faiz arttırma kararı çıktı\", \"suya zam geldi\",]  # ekonomi ve gündem (siyasetçi geçse ile) beklenir..\n",
    "new_text_vectorized = tfidf_vect_fit.transform(new_text)\n",
    "prediction = rf1.predict(new_text_vectorized)\n",
    "\n",
    "print(f\"Sınıflandırma sonucu :\\n{new_text[0]} : {prediction[0]} \\n{new_text[1]} : {prediction[1]}\")"
   ]
  },
  {
   "cell_type": "code",
   "execution_count": 253,
   "id": "11936f4a3d6ea1e",
   "metadata": {
    "ExecuteTime": {
     "end_time": "2023-12-25T17:09:59.740251Z",
     "start_time": "2023-12-25T17:09:59.565935Z"
    },
    "collapsed": false,
    "jupyter": {
     "outputs_hidden": false
    }
   },
   "outputs": [],
   "source": [
    "import gensim as GN\n",
    "\n",
    "sentences = GN.models.word2vec.LineSentence('data.csv',max_sentence_length=5000)\n"
   ]
  },
  {
   "cell_type": "code",
   "execution_count": 191,
   "id": "274baa4b7d58a5ce",
   "metadata": {
    "ExecuteTime": {
     "end_time": "2023-12-25T17:11:17.314632Z",
     "start_time": "2023-12-25T17:11:17.235998Z"
    },
    "collapsed": false,
    "jupyter": {
     "outputs_hidden": false
    }
   },
   "outputs": [],
   "source": [
    "sentence = df['Text']\n"
   ]
  },
  {
   "cell_type": "code",
   "execution_count": 192,
   "id": "63dc97d0f0718ed8",
   "metadata": {
    "ExecuteTime": {
     "end_time": "2023-12-25T17:11:18.125351Z",
     "start_time": "2023-12-25T17:11:18.108184Z"
    },
    "collapsed": false,
    "jupyter": {
     "outputs_hidden": false
    }
   },
   "outputs": [
    {
     "data": {
      "text/plain": [
       "(28463, 122055)"
      ]
     },
     "execution_count": 192,
     "metadata": {},
     "output_type": "execute_result"
    }
   ],
   "source": [
    "model = GN.models.Word2Vec()\n",
    "model.build_vocab(sentences)\n",
    "model.train(sentences,total_examples=model.corpus_count, epochs= model.epochs)"
   ]
  },
  {
   "cell_type": "code",
   "execution_count": 193,
   "id": "fa7128595c90344c",
   "metadata": {
    "ExecuteTime": {
     "end_time": "2023-12-25T17:14:07.641421Z",
     "start_time": "2023-12-25T17:14:07.616481Z"
    },
    "collapsed": false,
    "jupyter": {
     "outputs_hidden": false
    }
   },
   "outputs": [],
   "source": [
    "import numpy as np\n",
    "\n",
    "def document_vector(word2vec_model, doc):\n",
    "    # Kelimelerin vektörlerini alır ve bunların ortalamasını hesaplar\n",
    "    words = doc.split()\n",
    "    word_vectors = [word2vec_model.wv[word] for word in words if word in word2vec_model.wv.key_to_index]\n",
    "    if len(word_vectors) > 0:\n",
    "        return np.mean(word_vectors, axis=0)\n",
    "    else:\n",
    "        return np.zeros(word2vec_model.vector_size)\n",
    "\n",
    "# Tüm belgeler için vektörleri hesaplar\n",
    "doc_vectors = np.array([document_vector(model, doc) for doc in sentence])\n"
   ]
  },
  {
   "cell_type": "code",
   "execution_count": 194,
   "id": "10032279b823915e",
   "metadata": {
    "ExecuteTime": {
     "end_time": "2023-12-25T17:14:34.933858Z",
     "start_time": "2023-12-25T17:14:34.825464Z"
    },
    "collapsed": false,
    "jupyter": {
     "outputs_hidden": false
    }
   },
   "outputs": [
    {
     "name": "stdout",
     "output_type": "stream",
     "text": [
      "Doğruluk: 0.44801223241590216\n"
     ]
    }
   ],
   "source": [
    "from sklearn.ensemble import RandomForestClassifier\n",
    "from sklearn.model_selection import train_test_split\n",
    "\n",
    "# Eğitim ve test verilerini ayırır\n",
    "\n",
    "X_train, X_test, y_train, y_test = train_test_split(doc_vectors, y, test_size=0.2, random_state=42)\n",
    "\n",
    "# RandomForest sınıflandırıcısını eğitir\n",
    "clf = RandomForestClassifier(n_estimators=100, random_state=42)\n",
    "clf.fit(X_train, y_train)\n",
    "\n",
    "# Model performansını test eder\n",
    "\n",
    "score = clf.score(X_test, y_test)\n",
    "print(\"Doğruluk:\", score)\n"
   ]
  },
  {
   "cell_type": "code",
   "execution_count": null,
   "id": "a9617c6d-7045-4f96-8301-de795c22b470",
   "metadata": {},
   "outputs": [],
   "source": []
  }
 ],
 "metadata": {
  "kernelspec": {
   "display_name": "Python 3 (ipykernel)",
   "language": "python",
   "name": "python3"
  },
  "language_info": {
   "codemirror_mode": {
    "name": "ipython",
    "version": 3
   },
   "file_extension": ".py",
   "mimetype": "text/x-python",
   "name": "python",
   "nbconvert_exporter": "python",
   "pygments_lexer": "ipython3",
   "version": "3.11.6"
  }
 },
 "nbformat": 4,
 "nbformat_minor": 5
}
